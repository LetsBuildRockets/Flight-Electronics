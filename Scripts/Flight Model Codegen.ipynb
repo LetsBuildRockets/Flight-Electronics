{
 "cells": [
  {
   "cell_type": "markdown",
   "metadata": {},
   "source": [
    "# Importing Data"
   ]
  },
  {
   "cell_type": "code",
   "execution_count": 1,
   "metadata": {},
   "outputs": [],
   "source": [
    "degree = 4"
   ]
  },
  {
   "cell_type": "code",
   "execution_count": 2,
   "metadata": {},
   "outputs": [],
   "source": [
    "import csv\n",
    "X = []\n",
    "y = []\n",
    "with open('data.csv', newline='') as csvfile:\n",
    "    reader = csv.reader(csvfile)\n",
    "    for row in reader:\n",
    "        [y_, *x] = [float(n) for n in row]\n",
    "        y.append(y_)\n",
    "        X.append(x)"
   ]
  },
  {
   "cell_type": "markdown",
   "metadata": {},
   "source": [
    "# Generating Polynomial-to-Linear Transformation\n",
    "(sklearn doesn't offer a multivariate polynomial regression, but we can trivially transform a polynomial regression into a linear one)"
   ]
  },
  {
   "cell_type": "code",
   "execution_count": 3,
   "metadata": {},
   "outputs": [],
   "source": [
    "from sklearn.preprocessing import PolynomialFeatures\n",
    "poly = PolynomialFeatures(degree=degree)\n",
    "new_X = poly.fit_transform(X)"
   ]
  },
  {
   "cell_type": "markdown",
   "metadata": {},
   "source": [
    "# Performing Regression"
   ]
  },
  {
   "cell_type": "code",
   "execution_count": 4,
   "metadata": {},
   "outputs": [
    {
     "name": "stderr",
     "output_type": "stream",
     "text": [
      "/usr/local/lib/python3.7/site-packages/sklearn/linear_model/base.py:485: RuntimeWarning: internal gelsd driver lwork query error, required iwork dimension not returned. This is likely the result of LAPACK bug 0038, fixed in LAPACK 3.2.2 (released July 21, 2010). Falling back to 'gelss' driver.\n",
      "  linalg.lstsq(X, y)\n"
     ]
    },
    {
     "data": {
      "text/plain": [
       "LinearRegression(copy_X=True, fit_intercept=True, n_jobs=None,\n",
       "         normalize=False)"
      ]
     },
     "execution_count": 4,
     "metadata": {},
     "output_type": "execute_result"
    }
   ],
   "source": [
    "from sklearn import linear_model\n",
    "reg = linear_model.LinearRegression(copy_X=True)\n",
    "reg.fit(new_X, y)"
   ]
  },
  {
   "cell_type": "markdown",
   "metadata": {},
   "source": [
    "# Verifying Results"
   ]
  },
  {
   "cell_type": "code",
   "execution_count": 5,
   "metadata": {},
   "outputs": [
    {
     "data": {
      "text/plain": [
       "(array([ 0.00000000e+00, -3.21648136e-03, -4.10024324e-03, -4.31494669e-02,\n",
       "        -1.44876293e-02,  1.32170240e-04, -1.77566404e-03,  5.02757764e-07,\n",
       "        -3.67441356e-06,  1.78293968e-04,  5.73347234e-04,  3.11519481e-06,\n",
       "        -9.36190566e-05, -1.90657229e-08, -8.59550414e-07,  2.30348073e-05,\n",
       "        -8.53008203e-12, -1.70290813e-09,  5.86708583e-08, -1.17770928e-06,\n",
       "        -4.47230717e-06, -1.86761746e-07,  3.41031633e-06,  8.81553044e-10,\n",
       "        -2.53449092e-09, -2.47098823e-07, -6.10204875e-14, -4.66703500e-11,\n",
       "         2.96193390e-09, -3.27584383e-08, -2.13414093e-15,  2.40182808e-13,\n",
       "        -3.28120075e-12, -7.95034886e-11,  1.74632333e-09]), 31.0889774990904)"
      ]
     },
     "execution_count": 5,
     "metadata": {},
     "output_type": "execute_result"
    }
   ],
   "source": [
    "(reg.coef_, reg.intercept_)"
   ]
  },
  {
   "cell_type": "code",
   "execution_count": 6,
   "metadata": {},
   "outputs": [
    {
     "data": {
      "text/plain": [
       "(35, 0.9993504171122628)"
      ]
     },
     "execution_count": 6,
     "metadata": {},
     "output_type": "execute_result"
    }
   ],
   "source": [
    "(len(reg.coef_), reg.score(new_X, y))"
   ]
  },
  {
   "cell_type": "code",
   "execution_count": 7,
   "metadata": {},
   "outputs": [],
   "source": [
    "# to_predict = [\n",
    "#     [15,2000,120],\n",
    "#     [15,2000,220],\n",
    "# ]\n",
    "import numpy as np\n",
    "x_ = np.linspace(250,300,40)\n",
    "to_predict = [[31, 5000, x] for x in x_]\n",
    "new_to_predict = PolynomialFeatures(degree=degree).fit_transform(to_predict)\n",
    "y_ = reg.predict(new_to_predict)"
   ]
  },
  {
   "cell_type": "code",
   "execution_count": 8,
   "metadata": {},
   "outputs": [
    {
     "data": {
      "text/plain": [
       "[<matplotlib.lines.Line2D at 0x1116c6668>]"
      ]
     },
     "execution_count": 8,
     "metadata": {},
     "output_type": "execute_result"
    }
   ],
   "source": [
    "import matplotlib.pyplot as plt\n",
    "plt.plot(x_,y_)"
   ]
  },
  {
   "cell_type": "code",
   "execution_count": 9,
   "metadata": {},
   "outputs": [
    {
     "name": "stdout",
     "output_type": "stream",
     "text": [
      "[array([0, 1, 2, 3])]\n"
     ]
    },
    {
     "data": {
      "text/plain": [
       "70"
      ]
     },
     "execution_count": 9,
     "metadata": {},
     "output_type": "execute_result"
    }
   ],
   "source": [
    "a = [np.arange(4)]\n",
    "print(a)\n",
    "len(PolynomialFeatures(degree=degree).fit_transform(a)[0])"
   ]
  },
  {
   "cell_type": "code",
   "execution_count": 10,
   "metadata": {},
   "outputs": [
    {
     "data": {
      "text/plain": [
       "array([7.89550304])"
      ]
     },
     "execution_count": 10,
     "metadata": {},
     "output_type": "execute_result"
    }
   ],
   "source": [
    "reg.predict(PolynomialFeatures(degree=degree).fit_transform([[31,5000,250]]))"
   ]
  },
  {
   "cell_type": "code",
   "execution_count": 11,
   "metadata": {},
   "outputs": [
    {
     "data": {
      "text/plain": [
       "array([ 0.00000000e+00, -3.21648136e-03, -4.10024324e-03, -4.31494669e-02,\n",
       "       -1.44876293e-02,  1.32170240e-04, -1.77566404e-03,  5.02757764e-07,\n",
       "       -3.67441356e-06,  1.78293968e-04,  5.73347234e-04,  3.11519481e-06,\n",
       "       -9.36190566e-05, -1.90657229e-08, -8.59550414e-07,  2.30348073e-05,\n",
       "       -8.53008203e-12, -1.70290813e-09,  5.86708583e-08, -1.17770928e-06,\n",
       "       -4.47230717e-06, -1.86761746e-07,  3.41031633e-06,  8.81553044e-10,\n",
       "       -2.53449092e-09, -2.47098823e-07, -6.10204875e-14, -4.66703500e-11,\n",
       "        2.96193390e-09, -3.27584383e-08, -2.13414093e-15,  2.40182808e-13,\n",
       "       -3.28120075e-12, -7.95034886e-11,  1.74632333e-09])"
      ]
     },
     "execution_count": 11,
     "metadata": {},
     "output_type": "execute_result"
    }
   ],
   "source": [
    "reg.coef_\n"
   ]
  },
  {
   "cell_type": "markdown",
   "metadata": {},
   "source": [
    "# Generating Code\n",
    "(the first cell produces the C expression that evaluates to the result of the regression given the coefficients and the `x`, `v`, and `t` values; the second cell produces the C expression representing the coefficients)"
   ]
  },
  {
   "cell_type": "code",
   "execution_count": 12,
   "metadata": {},
   "outputs": [
    {
     "data": {
      "text/plain": [
       "'c[0] * 1 + c[1] * t + c[2] * x + c[3] * v + c[4] * t_2 + c[5] * t * x + c[6] * t * v + c[7] * x_2 + c[8] * x * v + c[9] * v_2 + c[10] * t_3 + c[11] * t_2 * x + c[12] * t_2 * v + c[13] * t * x_2 + c[14] * t * x * v + c[15] * t * v_2 + c[16] * x_3 + c[17] * x_2 * v + c[18] * x * v_2 + c[19] * v_3 + c[20] * t_4 + c[21] * t_3 * x + c[22] * t_3 * v + c[23] * t_2 * x_2 + c[24] * t_2 * x * v + c[25] * t_2 * v_2 + c[26] * t * x_3 + c[27] * t * x_2 * v + c[28] * t * x * v_2 + c[29] * t * v_3 + c[30] * x_4 + c[31] * x_3 * v + c[32] * x_2 * v_2 + c[33] * x * v_3 + c[34] * v_4'"
      ]
     },
     "execution_count": 12,
     "metadata": {},
     "output_type": "execute_result"
    }
   ],
   "source": [
    "the_list = zip(\n",
    "    ['c['+str(i)+']' for i in range(len(reg.coef_))], \n",
    "    poly.get_feature_names(['t', 'x', 'v'])\n",
    ")\n",
    "\n",
    "' + '.join([\n",
    "    v[0] + ' * ' + (\n",
    "        ' * '.join(v[1].replace('^', '_').split(' '))\n",
    "    ) for v in the_list   \n",
    "])"
   ]
  },
  {
   "cell_type": "code",
   "execution_count": 13,
   "metadata": {},
   "outputs": [
    {
     "data": {
      "text/plain": [
       "'float c[] = {31.0889774990904, -0.003216481364462731, -0.004100243239694015, -0.04314946689850364, -0.014487629338360983, 0.00013217024013931553, -0.001775664037136168, 5.027577642934903E-07, -3.6744135645886206E-06, 0.00017829396790668568, 0.0005733472337225401, 3.1151948099235467E-06, -9.361905662145324E-05, -1.9065722948631668E-08, -8.595504140745983E-07, 2.3034807328705295E-05, -8.530082029710936E-12, -1.7029081294710465E-09, 5.8670858286297504E-08, -1.1777092799530631E-06, -4.472307173112913E-06, -1.8676174554666065E-07, 3.4103163258855264E-06, 8.815530438031664E-10, -2.5344909211140704E-09, -2.470988233043669E-07, -6.102048752446398E-14, -4.66703500405816E-11, 2.9619338971249244E-09, -3.275843828840046E-08, -2.1341409279473684E-15, 2.4018280822876314E-13, -3.2812007493696147E-12, -7.950348864514952E-11, 1.7463233288448203E-09};'"
      ]
     },
     "execution_count": 13,
     "metadata": {},
     "output_type": "execute_result"
    }
   ],
   "source": [
    "coefs = reg.coef_\n",
    "coefs[0] = reg.intercept_\n",
    "'float c[] = {' + (', '.join([(str(v).replace('e', 'E')) for v in reg.coef_])) + '};'"
   ]
  }
 ],
 "metadata": {
  "kernelspec": {
   "display_name": "Python 3",
   "language": "python",
   "name": "python3"
  },
  "language_info": {
   "codemirror_mode": {
    "name": "ipython",
    "version": 3
   },
   "file_extension": ".py",
   "mimetype": "text/x-python",
   "name": "python",
   "nbconvert_exporter": "python",
   "pygments_lexer": "ipython3",
   "version": "3.7.1"
  }
 },
 "nbformat": 4,
 "nbformat_minor": 2
}
